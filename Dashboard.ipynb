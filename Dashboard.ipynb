{
  "metadata": {
    "language_info": {
      "codemirror_mode": {
        "name": "python",
        "version": 3
      },
      "file_extension": ".py",
      "mimetype": "text/x-python",
      "name": "python",
      "nbconvert_exporter": "python",
      "pygments_lexer": "ipython3",
      "version": "3.8"
    },
    "kernelspec": {
      "name": "python",
      "display_name": "Python (Pyodide)",
      "language": "python"
    }
  },
  "nbformat_minor": 4,
  "nbformat": 4,
  "cells": [
    {
      "cell_type": "raw",
      "source": "# Import required libraries\nimport pandas as pd\nimport dash\nfrom dash import html\nfrom dash import dcc\nfrom dash.dependencies import Input, Output\nimport plotly.express as px\n\napp = dash.Dash(__name__)\nspacex_df = pd.read_csv(\"spacex_launch_dash.csv\")\nmax_payload = spacex_df['Payload Mass (kg)'].max()\nmin_payload = spacex_df['Payload Mass (kg)'].min()\n\nunique_launch_sites = spacex_df['Launch Site'].unique().tolist()\nlaunch_sites = []\nlaunch_sites.append({'label': 'All Sites', 'value': 'All Sites'})\nfor launch_site in unique_launch_sites:\n    launch_sites.append({'label': launch_site, 'value': launch_site})\n\napp.layout = html.Div(children=[\n    html.Div([\n        html.H1('SpaceX Launch Records Dashboard',\n            style={'textAlign': 'center', 'color': '#503D36','font-size': 40}),\n    ]),\n    \n    html.Div([\n        # TASK 1: Add a Launch Site Drop-down Input Component\n        dcc.Dropdown(\n                id = 'site-dropdown',\n                options = launch_sites,\n                placeholder = 'Select a Launch Site here',\n                searchable = True ,\n                clearable = False,\n                value = 'All Sites'\n            ),\n        # TASK 2: Add a callback function to render success-pie-chart based on selected site dropdown\n        html.Div(dcc.Graph(id='success-pie-chart')),\n    ], style={'padding': '0 30px'}),\n\n    html.Div([\n        # TASK 3: Add a Range Slider to Select Payload\n        html.Div(\"Payload range (Kg):\", \n            style={'color': '#503D36','font-size': 20, 'padding': '0 30px', 'margin-left': '11px'}\n            ),\n        html.Div([\n            dcc.RangeSlider(\n                id = 'payload_slider',\n                min = 0,\n                max = 10000,\n                step = 1000,\n                marks = {\n                        0: {'label': '0', 'style': {'color': '#77b0b1'}},\n                        2500: {'label': '2500'},\n                        5000: {'label': '5000'},\n                        7500: {'label': '7500'},\n                        10000: {'label': '10000', 'style': {'color': '#f50'}},\n                },\n                value = [min_payload,max_payload]\n            ),\n        ], style={'padding': '40px 30px'}),\n\n        # TASK 4: Add a callback function to render the success-payload-scatter-chart scatter plot\n        html.Div(dcc.Graph(id = 'success-payload-scatter-chart')),\n    ]),\n],style={'padding': '0 20px'})\n\n# TASK 2: success-pie-chart callback based on selected site dropdown\n@app.callback(\n     Output(component_id = 'success-pie-chart', component_property = 'figure'),\n     [Input(component_id = 'site-dropdown', component_property = 'value')]\n)\ndef update_piegraph(site_dropdown):\n    if (site_dropdown == 'All Sites' or site_dropdown == 'None'):\n        all_sites  = spacex_df[spacex_df['class'] == 1] # All Success only for all sites.\n        fig = px.pie(\n                all_sites,\n                names = 'Launch Site',\n                title = 'Total Success Launches by All Sites',\n            )\n    else:\n        site_specific  = spacex_df.loc[spacex_df['Launch Site'] == site_dropdown]\n        fig = px.pie(\n                site_specific,\n                names = 'class',\n                title = 'Total Success Launches for Site' +site_dropdown,\n            )\n    return fig\n\n# TASK 3, 4: Range Slider or Scatter Chart Callback\n@app.callback(\n     Output(component_id = 'success-payload-scatter-chart', component_property = 'figure'),\n     [Input(component_id = 'site-dropdown', component_property = 'value'), \n     Input(component_id = \"payload_slider\", component_property = \"value\")]\n)\ndef update_scattergraph(site_dropdown,payload_slider):\n    if (site_dropdown == 'All Sites' or site_dropdown == 'None'):\n        low, high = payload_slider\n        all_sites  = spacex_df\n        inrange = (all_sites['Payload Mass (kg)'] > low) & (all_sites['Payload Mass (kg)'] < high)\n        fig = px.scatter(\n                all_sites[inrange], \n                x = \"Payload Mass (kg)\", \n                y = \"class\",\n                title = 'Correlation Between Payload and Success for All Sites',\n                color=\"Booster Version Category\",\n                size='Payload Mass (kg)',\n                hover_data=['Payload Mass (kg)']\n            )\n    else:\n        low, high = payload_slider\n        site_specific  = spacex_df.loc[spacex_df['Launch Site'] == site_dropdown]\n        inrange = (site_specific['Payload Mass (kg)'] > low) & (site_specific['Payload Mass (kg)'] < high)\n        fig = px.scatter(\n                site_specific[inrange],\n                x = \"Payload Mass (kg)\",\n                y = \"class\",\n                title = 'Correlation Between Payload and Success for Site ' +site_dropdown,\n                color=\"Booster Version Category\",\n                size='Payload Mass (kg)',\n                hover_data=['Payload Mass (kg)']\n            )\n    return fig\n\nif __name__ == '__main__':\n    app.run_server(debug=True)",
      "metadata": {}
    },
    {
      "cell_type": "code",
      "source": "",
      "metadata": {},
      "execution_count": null,
      "outputs": []
    }
  ]
}